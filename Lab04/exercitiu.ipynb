{
 "cells": [
  {
   "cell_type": "code",
   "execution_count": 65,
   "metadata": {},
   "outputs": [
    {
     "name": "stdout",
     "output_type": "stream",
     "text": [
      "Clicile modelului sunt: [['A4', 'A5', 'A2'], ['A4', 'A3'], ['A1', 'A2'], ['A1', 'A3']]\n"
     ]
    }
   ],
   "source": [
    "from pgmpy.models import MarkovNetwork\n",
    "import networkx as nx\n",
    "import matplotlib.pyplot as plt\n",
    "\n",
    "model = MarkovNetwork([\n",
    "    ('A1', 'A2'), \n",
    "    ('A1', 'A3'), \n",
    "    ('A2', 'A4'), \n",
    "    ('A2', 'A5'), \n",
    "    ('A3', 'A4'), \n",
    "    ('A4', 'A5')\n",
    "])\n",
    "\n",
    "cliques = list(nx.find_cliques(model))\n",
    "print(\"Clicile modelului sunt:\", cliques)\n"
   ]
  },
  {
   "cell_type": "code",
   "execution_count": 66,
   "metadata": {},
   "outputs": [
    {
     "data": {
      "image/png": "[encoded data removed]",
      "text/plain": [
       "<Figure size 600x400 with 1 Axes>"
      ]
     },
     "metadata": {},
     "output_type": "display_data"
    }
   ],
   "source": [
    "import matplotlib.pyplot as plt\n",
    "import networkx as nx\n",
    "\n",
    "graph = nx.DiGraph()\n",
    "graph.add_edges_from(model.edges())\n",
    "\n",
    "plt.figure(figsize=(6, 4))\n",
    "pos = nx.spring_layout(graph) \n",
    "nx.draw(graph, pos, with_labels=True, arrows=False, node_size=1000, node_color='lightblue', font_size=10, font_weight='bold')\n",
    "\n",
    "plt.title('Network Structure')\n",
    "plt.show()"
   ]
  },
  {
   "cell_type": "code",
   "execution_count": 67,
   "metadata": {},
   "outputs": [
    {
     "name": "stdout",
     "output_type": "stream",
     "text": [
      "Stările de probabilitate maximă: {'A1': 1, 'A2': 1, 'A3': 1, 'A4': 1, 'A5': 1}\n"
     ]
    }
   ],
   "source": [
    "# Clicile modelului sunt: [['A4', 'A5', 'A2'], ['A4', 'A3'], ['A1', 'A2'], ['A1', 'A3']]\n",
    "\n",
    "from pgmpy.factors.discrete import DiscreteFactor\n",
    "from pgmpy.inference import BeliefPropagation\n",
    "\n",
    "i1, i2, i3, i4, i5 = 1, 1, 1, 1, 1\n",
    "\n",
    "# phi (A4, A5, A2) = e ^ i4*A4 + i5*A5 + i2 * A2\n",
    "phi_A4_A5_A2 = DiscreteFactor(variables=['A4', 'A5', 'A2'], cardinality=[2, 2, 2],\n",
    "                              values=[np.exp(i4 * 0 + i5 * 0 + i2 * 0), np.exp(i4 * 0 + i5 * 0 + i2 * 1),\n",
    "                                      np.exp(i4 * 0 + i5 * 1 + i2 * 0), np.exp(i4 * 0 + i5 * 1 + i2 * 1),\n",
    "                                      np.exp(i4 * 1 + i5 * 0 + i2 * 0), np.exp(i4 * 1 + i5 * 0 + i2 * 1),\n",
    "                                      np.exp(i4 * 1 + i5 * 1 + i2 * 0), np.exp(i4 * 1 + i5 * 1 + i2 * 1)])\n",
    "\n",
    "\n",
    "#phi (A1, A2) = e ^ i1*A1 + i2*A2\n",
    "phi_A1_A2 = DiscreteFactor(variables=['A1', 'A2'], cardinality=[2, 2],\n",
    "                           values=[np.exp(i1 * 0 + i2 * 0), np.exp(i1 * 0 + i2 * 1),\n",
    "                                   np.exp(i1 * 1 + i2 * 0), np.exp(i1 * 1 + i2 * 1)])\n",
    "\n",
    "#phi (A1, A3) = e ^ i1*A1 + i3*A3\n",
    "phi_A1_A3 = DiscreteFactor(variables=['A1', 'A3'], cardinality=[2, 2],\n",
    "                           values=[np.exp(i1 * 0 + i3 * 0), np.exp(i1 * 0 + i3 * 1),\n",
    "                                   np.exp(i1 * 1 + i3 * 0), np.exp(i1 * 1 + i3 * 1)])\n",
    "\n",
    "#phi (A4, A3) = e ^ i4*A4 + i3*A3\n",
    "phi_A4_A3 = DiscreteFactor(variables=['A4', 'A3'], cardinality=[2, 2],\n",
    "                           values=[np.exp(i4 * 0 + i3 * 0), np.exp(i4 * 0 + i3 * 1),\n",
    "                                   np.exp(i4 * 1 + i3 * 0), np.exp(i4 * 1 + i3 * 1)])\n",
    "\n",
    "model.add_factors(phi_A1_A2, phi_A1_A3, phi_A4_A5_A2, phi_A4_A3)\n",
    "\n",
    "inference = BeliefPropagation(model)\n",
    "\n",
    "max_prob_state = inference.map_query(variables=['A1', 'A2', 'A3', 'A4', 'A5'])\n",
    "print(\"Stările de probabilitate maximă:\", max_prob_state)\n",
    "\n"
   ]
  },
  {
   "cell_type": "code",
   "execution_count": 68,
   "metadata": {},
   "outputs": [
    {
     "name": "stdout",
     "output_type": "stream",
     "text": [
      "Probabilitățile comune ale variabilelor:\n",
      "Starea (0, 0, 0, 0, 0): probabilitate 0.007442620969964401\n",
      "Starea (0, 0, 0, 0, 1): probabilitate 0.010639751062163916\n",
      "Starea (0, 0, 0, 1, 0): probabilitate 0.01383688115436343\n",
      "Starea (0, 0, 0, 1, 1): probabilitate 0.02252758178720897\n",
      "Starea (0, 0, 1, 0, 0): probabilitate 0.01383688115436343\n",
      "Starea (0, 0, 1, 0, 1): probabilitate 0.01703401124656295\n",
      "Starea (0, 0, 1, 1, 0): probabilitate 0.025724711879408488\n",
      "Starea (0, 0, 1, 1, 1): probabilitate 0.03441541251225402\n",
      "Starea (0, 1, 0, 0, 0): probabilitate 0.013836881154363432\n",
      "Starea (0, 1, 0, 0, 1): probabilitate 0.02252758178720897\n",
      "Starea (0, 1, 0, 1, 0): probabilitate 0.025724711879408484\n",
      "Starea (0, 1, 0, 1, 1): probabilitate 0.04934848548625003\n",
      "Starea (0, 1, 1, 0, 0): probabilitate 0.020231141338762464\n",
      "Starea (0, 1, 1, 0, 1): probabilitate 0.028921841971608\n",
      "Starea (0, 1, 1, 1, 0): probabilitate 0.037612542604453535\n",
      "Starea (0, 1, 1, 1, 1): probabilitate 0.061236316211295085\n",
      "Starea (1, 0, 0, 0, 0): probabilitate 0.013836881154363432\n",
      "Starea (1, 0, 0, 0, 1): probabilitate 0.01703401124656295\n",
      "Starea (1, 0, 0, 1, 0): probabilitate 0.020231141338762464\n",
      "Starea (1, 0, 0, 1, 1): probabilitate 0.028921841971608\n",
      "Starea (1, 0, 1, 0, 0): probabilitate 0.025724711879408484\n",
      "Starea (1, 0, 1, 0, 1): probabilitate 0.028921841971608003\n",
      "Starea (1, 0, 1, 1, 0): probabilitate 0.03761254260445354\n",
      "Starea (1, 0, 1, 1, 1): probabilitate 0.04630324323729908\n",
      "Starea (1, 1, 0, 0, 0): probabilitate 0.025724711879408484\n",
      "Starea (1, 1, 0, 0, 1): probabilitate 0.03441541251225402\n",
      "Starea (1, 1, 0, 1, 0): probabilitate 0.037612542604453535\n",
      "Starea (1, 1, 0, 1, 1): probabilitate 0.061236316211295085\n",
      "Starea (1, 1, 1, 0, 0): probabilitate 0.037612542604453535\n",
      "Starea (1, 1, 1, 0, 1): probabilitate 0.04630324323729907\n",
      "Starea (1, 1, 1, 1, 0): probabilitate 0.05499394387014461\n",
      "Starea (1, 1, 1, 1, 1): probabilitate 0.07861771747698616\n"
     ]
    }
   ],
   "source": [
    "from itertools import product\n",
    "\n",
    "def clique_energy(state):\n",
    "    A1, A2, A3, A4, A5 = state\n",
    "    energy = 0\n",
    "    \n",
    "    # phi (A4, A5, A2)\n",
    "    energy += np.exp(i4 * A4 + i5 * A5 + i2 * A2)\n",
    "    \n",
    "    # phi (A1, A2)\n",
    "    energy += np.exp(i1 * A1 + i2 * A2)\n",
    "    \n",
    "    # phi (A1, A3)\n",
    "    energy += np.exp(i1 * A1 + i3 * A3)\n",
    "    \n",
    "    # phi (A4, A3)\n",
    "    energy += np.exp(i4 * A4 + i3 * A3)\n",
    "\n",
    "    return energy\n",
    "\n",
    "\n",
    "joint_probabilities = {}\n",
    "Z = 0\n",
    "\n",
    "# Combinarea tuturor valorilor posibile (0, 1) pentru cele 5 variabile\n",
    "for state in product([0, 1], repeat=5):\n",
    "    energy = clique_energy(state)\n",
    "    joint_probabilities[state] = energy\n",
    "    Z += energy\n",
    "    \n",
    "for state in joint_probabilities:\n",
    "    joint_probabilities[state] /= Z\n",
    "\n",
    "print(\"Probabilitățile comune ale variabilelor:\")\n",
    "for state, prob in joint_probabilities.items():\n",
    "    print(f\"Starea {state}: probabilitate {prob}\")"
   ]
  }
 ],
 "metadata": {
  "kernelspec": {
   "display_name": "env",
   "language": "python",
   "name": "python3"
  },
  "language_info": {
   "codemirror_mode": {
    "name": "ipython",
    "version": 3
   },
   "file_extension": ".py",
   "mimetype": "text/x-python",
   "name": "python",
   "nbconvert_exporter": "python",
   "pygments_lexer": "ipython3",
   "version": "3.12.7"
  }
 },
 "nbformat": 4,
 "nbformat_minor": 2
}
