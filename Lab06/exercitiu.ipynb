{
 "cells": [
  {
   "cell_type": "code",
   "execution_count": 29,
   "metadata": {},
   "outputs": [
    {
     "name": "stdout",
     "output_type": "stream",
     "text": [
      "58.0\n"
     ]
    },
    {
     "name": "stderr",
     "output_type": "stream",
     "text": [
      "Auto-assigning NUTS sampler...\n",
      "Initializing NUTS using jitter+adapt_diag...\n",
      "Multiprocess sampling (4 chains in 4 jobs)\n",
      "NUTS: [mu, sigma]\n"
     ]
    },
    {
     "data": {
      "application/vnd.jupyter.widget-view+json": {
       "model_id": "ce8482f90b194e2080ec8e1960607b44",
       "version_major": 2,
       "version_minor": 0
      },
      "text/plain": [
       "Output()"
      ]
     },
     "metadata": {},
     "output_type": "display_data"
    },
    {
     "data": {
      "text/html": [
       "<pre style=\"white-space:pre;overflow-x:auto;line-height:normal;font-family:Menlo,'DejaVu Sans Mono',consolas,'Courier New',monospace\"></pre>\n"
      ],
      "text/plain": []
     },
     "metadata": {},
     "output_type": "display_data"
    },
    {
     "name": "stderr",
     "output_type": "stream",
     "text": [
      "Sampling 4 chains for 1_000 tune and 2_000 draw iterations (4_000 + 8_000 draws total) took 1 seconds.\n"
     ]
    }
   ],
   "source": [
    "import pymc as pm\n",
    "import numpy as np\n",
    "\n",
    "data = np.array([56, 60, 58, 55, 57, 59, 61, 56, 58, 60])\n",
    "x_prior = np.mean(data)\n",
    "print(x_prior)\n",
    "\n",
    "with pm.Model() as model:\n",
    "    mu = pm.Normal(\"mu\", mu=x_prior, sigma=10)\n",
    "    sigma = pm.HalfNormal(\"sigma\", sigma=10)\n",
    "\n",
    "    likelihood = pm.Normal(\"likelihood\", mu=mu, sigma=sigma, observed=data)\n",
    "    trace = pm.sample(2000, return_inferencedata=True)"
   ]
  },
  {
   "cell_type": "code",
   "execution_count": 30,
   "metadata": {},
   "outputs": [
    {
     "name": "stdout",
     "output_type": "stream",
     "text": [
      "56.46 - 59.46\n",
      "1.28 - 3.62\n"
     ]
    }
   ],
   "source": [
    "import arviz as az\n",
    "\n",
    "summary = az.summary(trace, hdi_prob=0.95)\n",
    "# print(summary)\n",
    "\n",
    "hdi_mu = az.hdi(trace, var_names=[\"mu\"], hdi_prob=0.95)\n",
    "hdi_sigma = az.hdi(trace, var_names=[\"sigma\"], hdi_prob=0.95)\n",
    "\n",
    "print(f\"{hdi_mu['mu'].values[0]:.2f} - {hdi_mu['mu'].values[1]:.2f}\")\n",
    "print(f\"{hdi_sigma['sigma'].values[0]:.2f} - {hdi_sigma['sigma'].values[1]:.2f}\")"
   ]
  }
 ],
 "metadata": {
  "kernelspec": {
   "display_name": "env",
   "language": "python",
   "name": "python3"
  },
  "language_info": {
   "codemirror_mode": {
    "name": "ipython",
    "version": 3
   },
   "file_extension": ".py",
   "mimetype": "text/x-python",
   "name": "python",
   "nbconvert_exporter": "python",
   "pygments_lexer": "ipython3",
   "version": "3.12.7"
  }
 },
 "nbformat": 4,
 "nbformat_minor": 2
}
