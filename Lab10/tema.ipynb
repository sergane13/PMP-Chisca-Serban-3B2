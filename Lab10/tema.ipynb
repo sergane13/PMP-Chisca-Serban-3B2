{
 "cells": [
  {
   "cell_type": "code",
   "execution_count": 72,
   "metadata": {},
   "outputs": [
    {
     "name": "stderr",
     "output_type": "stream",
     "text": [
      "Auto-assigning NUTS sampler...\n",
      "Initializing NUTS using jitter+adapt_diag...\n",
      "Multiprocess sampling (4 chains in 4 jobs)\n",
      "NUTS: [alpha, beta1, beta2, sigma]\n"
     ]
    },
    {
     "data": {
      "application/vnd.jupyter.widget-view+json": {
       "model_id": "92c587870582446487d9fe0463c117b0",
       "version_major": 2,
       "version_minor": 0
      },
      "text/plain": [
       "Output()"
      ]
     },
     "metadata": {},
     "output_type": "display_data"
    },
    {
     "data": {
      "text/html": [
       "<pre style=\"white-space:pre;overflow-x:auto;line-height:normal;font-family:Menlo,'DejaVu Sans Mono',consolas,'Courier New',monospace\"></pre>\n"
      ],
      "text/plain": []
     },
     "metadata": {},
     "output_type": "display_data"
    },
    {
     "name": "stderr",
     "output_type": "stream",
     "text": [
      "Sampling 4 chains for 1_000 tune and 2_000 draw iterations (4_000 + 8_000 draws total) took 3 seconds.\n"
     ]
    }
   ],
   "source": [
    "import pymc as pm\n",
    "import numpy as np\n",
    "import pandas as pd\n",
    "import arviz as az\n",
    "\n",
    "data = pd.read_csv('Prices.csv')\n",
    "\n",
    "y = data['Price'].values\n",
    "x1 = data['Speed'].values\n",
    "x2 = np.log(data['HardDrive'].values)\n",
    "\n",
    "\n",
    "with pm.Model() as model:\n",
    "\n",
    "    alpha = pm.Normal('alpha', mu=0, sigma=10)\n",
    "    beta1 = pm.Normal('beta1', mu=0, sigma=10)\n",
    "    beta2 = pm.Normal('beta2', mu=0, sigma=10)\n",
    "    sigma = pm.HalfNormal('sigma', sigma=10)\n",
    "    \n",
    "    mu = alpha + beta1 * x1 + beta2 * x2\n",
    "    \n",
    "    y_obs = pm.Normal('y_obs', mu=mu, sigma=sigma, observed=y)\n",
    "\n",
    "    trace = pm.sample(2000, tune=1000, return_inferencedata=False, random_seed=42)"
   ]
  },
  {
   "cell_type": "code",
   "execution_count": 73,
   "metadata": {},
   "outputs": [
    {
     "name": "stdout",
     "output_type": "stream",
     "text": [
      "95% HDI pentru β1: [14.17661752 16.83388617]\n",
      "95% HDI pentru β2: [212.81915241 237.67437428]\n"
     ]
    }
   ],
   "source": [
    "hdi_beta1 = az.hdi(trace['beta1'], hdi_prob=0.95)\n",
    "hdi_beta2 = az.hdi(trace['beta2'], hdi_prob=0.95)\n",
    "\n",
    "print(f\"95% HDI pentru β1: {hdi_beta1}\")\n",
    "print(f\"95% HDI pentru β2: {hdi_beta2}\")"
   ]
  },
  {
   "cell_type": "markdown",
   "metadata": {},
   "source": [
    "Coeficienții **β₁** și **β₂** determină dacă frecvența procesorului și dimensiunea hard diskului sunt predictori semnificativi pentru prețul de vânzare al unui computer. \n",
    "\n",
    "- Dacă un coeficient este **0**, acel predictor nu este util. \n",
    "- Dacă un interval HDI **nu include valoarea 0**, atunci predictorul respectiv este considerat **semnificativ**.\n",
    "\n",
    "Cum **β₁** și **β₂** sunt semnificativ mai mari ca 0 si intervalul hdi nu continer valoare 0 sau valori <0, atunci acesti coeficenti sunt semnificativi pentru determinarea pretului.\n"
   ]
  },
  {
   "cell_type": "code",
   "execution_count": 74,
   "metadata": {},
   "outputs": [
    {
     "name": "stdout",
     "output_type": "stream",
     "text": [
      "Intervalul HDI de 90% pentru pretul estimat: [1932.50415504 1998.99469696]\n"
     ]
    }
   ],
   "source": [
    "x1_new = 33\n",
    "x2_new = np.log(540)\n",
    "\n",
    "# Calcularea valorii medii μ pentru noile date\n",
    "mu_new = trace['alpha'] + trace['beta1'] * x1_new + trace['beta2'] * x2_new\n",
    "\n",
    "# Simularea 5000 de extrageri\n",
    "mu_simulated = np.random.choice(mu_new, size=5000)\n",
    "\n",
    "# Calcularea intervalului HDI de 90% pentru prețul estimat\n",
    "hdi_mu = az.hdi(mu_simulated, hdi_prob=0.90)\n",
    "print(f\"Intervalul HDI de 90% pentru pretul estimat: {hdi_mu}\")"
   ]
  },
  {
   "cell_type": "code",
   "execution_count": 75,
   "metadata": {},
   "outputs": [
    {
     "name": "stdout",
     "output_type": "stream",
     "text": [
      "Intervalul HDI de 90% pentru prețul predictiv: [1452.61991091 2470.16612466]\n"
     ]
    }
   ],
   "source": [
    "y_simulated = np.random.normal(mu_new[0:5000], np.random.choice(trace['sigma'], size=5000))\n",
    "\n",
    "# Calcularea HDI\n",
    "hdi_y = az.hdi(y_simulated, hdi_prob=0.90)\n",
    "print(f\"Intervalul HDI de 90% pentru prețul predictiv: {hdi_y}\")"
   ]
  },
  {
   "cell_type": "code",
   "execution_count": null,
   "metadata": {},
   "outputs": [
    {
     "name": "stdout",
     "output_type": "stream",
     "text": [
      "[1, 1, 1, 1, 0, 0, 1, 1, 0, 1, 1, 1, 1, 1, 0, 1, 1, 1, 1, 1, 1, 1, 1, 1, 1, 1, 0, 1, 1, 1, 1, 1, 1, 1, 1, 1, 1, 1, 1, 1, 1, 1, 1, 1, 1, 1, 1, 0, 0, 1, 1, 1, 1, 1, 1, 1, 1, 0, 1, 1, 1, 1, 1, 1, 1, 1, 1, 1, 1, 1, 1, 1, 1, 1, 1, 1, 1, 1, 1, 1, 1, 1, 1, 1, 1, 1, 1, 1, 1, 1, 1, 1, 1, 1, 1, 1, 1, 0, 1, 1, 1, 1, 1, 1, 0, 1, 1, 1, 1, 1, 0, 1, 0, 1, 1, 1, 1, 1, 1, 1, 1, 1, 1, 0, 1, 1, 1, 1, 1, 1, 1, 1, 1, 1, 1, 1, 0, 1, 1, 1, 1, 1, 1, 1, 1, 1, 1, 1, 1, 1, 1, 1, 1, 1, 1, 1, 1, 1, 1, 1, 1, 1, 1, 1, 1, 1, 1, 1, 1, 1, 1, 1, 1, 1, 1, 1, 1, 1, 1, 1, 1, 1, 1, 1, 1, 1, 1, 1, 1, 1, 1, 1, 1, 1, 0, 1, 1, 1, 0, 1, 1, 1, 1, 0, 1, 1, 1, 1, 1, 1, 1, 1, 1, 1, 1, 1, 1, 1, 0, 1, 1, 1, 0, 1, 1, 1, 1, 1, 1, 0, 0, 1, 1, 1, 1, 1, 1, 1, 1, 1, 1, 1, 1, 1, 1, 0, 1, 1, 1, 1, 0, 0, 1, 1, 1, 0, 1, 1, 1, 1, 1, 1, 1, 1, 1, 1, 1, 1, 1, 1, 1, 1, 1, 1, 1, 1, 1, 1, 1, 0, 1, 1, 1, 1, 1, 1, 0, 1, 1, 1, 1, 1, 0, 1, 0, 1, 1, 1, 1, 1, 1, 1, 1, 1, 0, 1, 1, 1, 1, 0, 1, 1, 1, 1, 1, 1, 1, 1, 1, 1, 1, 1, 1, 1, 1, 1, 0, 1, 1, 1, 1, 0, 1, 1, 1, 0, 1, 1, 1, 0, 1, 1, 1, 1, 1, 1, 1, 1, 1, 1, 1, 1, 1, 1, 1, 1, 1, 1, 1, 1, 1, 1, 1, 1, 1, 1, 1, 1, 1, 1, 1, 1, 1, 1, 1, 1, 1, 1, 1, 0, 1, 1, 1, 1, 1, 1, 1, 1, 1, 1, 1, 0, 1, 1, 1, 1, 1, 1, 1, 1, 1, 0, 1, 1, 1, 1, 1, 1, 1, 1, 1, 1, 1, 1, 1, 1, 0, 1, 0, 0, 0, 1, 1, 1, 1, 1, 1, 1, 1, 1, 1, 1, 1, 1, 1, 1, 1, 1, 1, 1, 0, 1, 1, 1, 1, 1, 1, 1, 1, 1, 0, 1, 1, 1, 1, 1, 1, 1, 1, 1, 1, 1, 1, 1, 1, 1, 1, 1, 1, 1, 1, 1, 1, 1, 1, 1, 1, 1, 1, 1, 0, 1, 1, 1, 1, 0, 1, 1, 1, 1, 1, 1, 0, 1, 1, 1, 1, 1, 1, 1]\n"
     ]
    },
    {
     "name": "stderr",
     "output_type": "stream",
     "text": [
      "Auto-assigning NUTS sampler...\n",
      "Initializing NUTS using jitter+adapt_diag...\n",
      "Multiprocess sampling (4 chains in 4 jobs)\n",
      "NUTS: [alpha, beta1, beta2, beta3, sigma]\n"
     ]
    },
    {
     "data": {
      "application/vnd.jupyter.widget-view+json": {
       "model_id": "20ace50be1a344b692c01d76c6507aaf",
       "version_major": 2,
       "version_minor": 0
      },
      "text/plain": [
       "Output()"
      ]
     },
     "metadata": {},
     "output_type": "display_data"
    },
    {
     "data": {
      "text/html": [
       "<pre style=\"white-space:pre;overflow-x:auto;line-height:normal;font-family:Menlo,'DejaVu Sans Mono',consolas,'Courier New',monospace\"></pre>\n"
      ],
      "text/plain": []
     },
     "metadata": {},
     "output_type": "display_data"
    },
    {
     "name": "stderr",
     "output_type": "stream",
     "text": [
      "Sampling 4 chains for 1_000 tune and 2_000 draw iterations (4_000 + 8_000 draws total) took 4 seconds.\n"
     ]
    },
    {
     "name": "stdout",
     "output_type": "stream",
     "text": [
      "[17.94184204  7.89643989 13.99404741 ...  9.43323342 11.30724407\n",
      " 28.41876265]\n"
     ]
    }
   ],
   "source": [
    "x3 = [1 if value == 'yes' else 0 for value in data['Premium']]\n",
    "print(x3)\n",
    "\n",
    "with pm.Model() as model:\n",
    "\n",
    "    alpha = pm.Normal('alpha', mu=0, sigma=10)\n",
    "    beta1 = pm.Normal('beta1', mu=0, sigma=10)\n",
    "    beta2 = pm.Normal('beta2', mu=0, sigma=10)\n",
    "    beta3 = pm.Normal('beta3', mu=0, sigma=10)\n",
    "    sigma = pm.HalfNormal('sigma', sigma=10)\n",
    "    \n",
    "    mu = alpha + beta1 * x1 + beta2 * x2 + beta3 * x3\n",
    "    \n",
    "    y_obs = pm.Normal('y_obs', mu=mu, sigma=sigma, observed=y)\n",
    "\n",
    "    trace_premium = pm.sample(2000, tune=1000, return_inferencedata=False, random_seed=42)"
   ]
  },
  {
   "cell_type": "code",
   "execution_count": null,
   "metadata": {},
   "outputs": [
    {
     "name": "stdout",
     "output_type": "stream",
     "text": [
      "95% HDI pentru β1: [14.11638141 16.7702907 ]\n",
      "95% HDI pentru β2: [209.94900633 235.21168345]\n",
      "95% HDI pentru β3: [ 2.25589452 39.00264909]\n"
     ]
    }
   ],
   "source": [
    "hdi_beta1 = az.hdi(trace_premium['beta1'], hdi_prob=0.95)\n",
    "hdi_beta2 = az.hdi(trace_premium['beta2'], hdi_prob=0.95)\n",
    "hdi_beta3 = az.hdi(trace_premium['beta3'], hdi_prob=0.95)\n",
    "\n",
    "print(f\"95% HDI pentru β1: {hdi_beta1}\")\n",
    "print(f\"95% HDI pentru β2: {hdi_beta2}\")\n",
    "print(f\"95% HDI pentru β3: {hdi_beta3}\")\n",
    "\n",
    "# Cum beta3 e pozitiv si nu include 0, inseamna ca un calculator premium e mai scump decat unul normal"
   ]
  }
 ],
 "metadata": {
  "kernelspec": {
   "display_name": "env",
   "language": "python",
   "name": "python3"
  },
  "language_info": {
   "codemirror_mode": {
    "name": "ipython",
    "version": 3
   },
   "file_extension": ".py",
   "mimetype": "text/x-python",
   "name": "python",
   "nbconvert_exporter": "python",
   "pygments_lexer": "ipython3",
   "version": "3.12.8"
  }
 },
 "nbformat": 4,
 "nbformat_minor": 2
}
